{
 "cells": [
  {
   "cell_type": "code",
   "execution_count": 36,
   "metadata": {},
   "outputs": [],
   "source": [
    "from tkinter import *\n",
    "from tkinter import ttk\n",
    "from googletrans import Translator, LANGUAGES"
   ]
  },
  {
   "cell_type": "code",
   "execution_count": null,
   "metadata": {},
   "outputs": [],
   "source": [
    "root = Tk() # imported tkinter\n",
    "root.geometry('1100x500') # size of the box\n",
    "root.resizable(0,0)\n",
    "root.iconbitmap(\"translator.ico\")\n",
    "root[\"bg\"] = \"#3EB489\"\n",
    "\n",
    "root.title(\"Language Translator\")\n",
    "Label(root, text = \"Langauge Translator\", font = \"Arial 20 bold\").pack()\n"
   ]
  },
  {
   "cell_type": "code",
   "execution_count": 38,
   "metadata": {},
   "outputs": [],
   "source": [
    "Label(root, text = \"Enter the Text To Translate\", font = \"Arial 13 bold\", bg = \"#FAF9F6\").place(x = 120,y = 90)"
   ]
  },
  {
   "cell_type": "code",
   "execution_count": 39,
   "metadata": {},
   "outputs": [
    {
     "name": "stdout",
     "output_type": "stream",
     "text": [
      "\n",
      "\n"
     ]
    }
   ],
   "source": [
    "# Created a text box to enter the text to be translated\n",
    "Input_text = Entry(root, width = 60)\n",
    "Input_text = Text(root, font = \"Arial 10\", height = 5, wrap = WORD, padx = 5, pady = 5, width = 50)\n",
    "Input_text.place(x = 30, y = 130)\n",
    "\n",
    "text_content = Input_text.get(\"1.0\", END)\n",
    "print(text_content)\n"
   ]
  },
  {
   "cell_type": "code",
   "execution_count": 40,
   "metadata": {},
   "outputs": [],
   "source": [
    "# Created the Translated Text Label and Box where the translated text will appear\n",
    "Label(root, text = \"Translated Text\", font = \"Arial 13 bold\", bg = \"#FAF9F6\").place(x = 810, y = 90)\n",
    "\n",
    "Output_text = Text(root, font = \"Arial 10\", height = 5, wrap = WORD, padx = 5, pady = 5, width = 50)\n",
    "\n",
    "Output_text.place(x = 700, y = 130)\n",
    "\n",
    "language = list(LANGUAGES.values())\n",
    "\n",
    "# Creating a comobox for the languages \n",
    "destination_lang = ttk.Combobox(root ,values = language, width = 22) \n",
    "destination_lang.place(x = 130, y = 260)\n",
    "destination_lang.set(\"Select the Language\")\n",
    "\n",
    "root.mainloop() # to prevent the kernel to die"
   ]
  },
  {
   "cell_type": "code",
   "execution_count": null,
   "metadata": {},
   "outputs": [],
   "source": []
  }
 ],
 "metadata": {
  "kernelspec": {
   "display_name": "Python 3",
   "language": "python",
   "name": "python3"
  },
  "language_info": {
   "codemirror_mode": {
    "name": "ipython",
    "version": 3
   },
   "file_extension": ".py",
   "mimetype": "text/x-python",
   "name": "python",
   "nbconvert_exporter": "python",
   "pygments_lexer": "ipython3",
   "version": "3.11.9"
  }
 },
 "nbformat": 4,
 "nbformat_minor": 2
}
