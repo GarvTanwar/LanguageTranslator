{
 "cells": [
  {
   "cell_type": "code",
   "execution_count": 6,
   "metadata": {},
   "outputs": [],
   "source": [
    "from tkinter import *\n",
    "from tkinter import ttk\n",
    "import deepl\n",
    "import speech_recognition as sr \n",
    "\n",
    "API_KEY = \"dd73f869-4a8c-49c1-9c76-21f02c7522bf:fx\"\n",
    "\n",
    "translator = deepl.Translator(API_KEY)"
   ]
  },
  {
   "cell_type": "code",
   "execution_count": 7,
   "metadata": {},
   "outputs": [],
   "source": [
    "root = Tk() # imported tkinter\n",
    "root.geometry('1100x500') # size of the box\n",
    "root.resizable(0,0)\n",
    "root.iconbitmap(\"translator.ico\")\n",
    "root[\"bg\"] = \"#3EB489\"\n",
    "\n",
    "root.title(\"Language Translator\")\n",
    "Label(root, text = \"Langauge Translator\", font = \"Arial 20 bold\").pack()\n"
   ]
  },
  {
   "cell_type": "code",
   "execution_count": 8,
   "metadata": {},
   "outputs": [],
   "source": [
    "Label(root, text = \"Enter the Text To Translate\", font = \"Arial 13 bold\", bg = \"#FAF9F6\").place(x = 120,y = 90)"
   ]
  },
  {
   "cell_type": "code",
   "execution_count": 9,
   "metadata": {},
   "outputs": [
    {
     "name": "stdout",
     "output_type": "stream",
     "text": [
      "\n",
      "\n"
     ]
    }
   ],
   "source": [
    "# Created a text box to enter the text to be translated\n",
    "Input_text = Entry(root, width = 60)\n",
    "Input_text = Text(root, font = \"Arial 10\", height = 5, wrap = WORD, padx = 5, pady = 5, width = 50)\n",
    "Input_text.place(x = 30, y = 130)\n",
    "\n",
    "text_content = Input_text.get(\"1.0\", END)\n",
    "print(text_content)\n"
   ]
  },
  {
   "cell_type": "code",
   "execution_count": 10,
   "metadata": {},
   "outputs": [],
   "source": [
    "# Created the Translated Text Label and Box where the translated text will appear\n",
    "Label(root, text = \"Translated Text\", font = \"Arial 13 bold\", bg = \"#FAF9F6\").place(x = 810, y = 90)\n",
    "\n",
    "Output_text = Text(root, font = \"Arial 10\", height = 5, wrap = WORD, padx = 5, pady = 5, width = 50)\n",
    "\n",
    "Output_text.place(x = 700, y = 130)\n",
    "\n",
    "def getAllLangauges():\n",
    "    try:\n",
    "        languages = translator.get_target_languages()\n",
    "        return {lang.name: lang.code for lang in languages}\n",
    "    except Exception as e:\n",
    "        print(f\"Error fetching languages: {str(e)}\")\n",
    "        return {}\n",
    "\n",
    "languages_dict = getAllLangauges()\n",
    "\n",
    "languages_list = list(languages_dict.keys())\n",
    "\n",
    "# Creating a comobox for the languages \n",
    "destination_lang = ttk.Combobox(root ,values = languages_list, width = 22) \n",
    "destination_lang.place(x = 130, y = 260)\n",
    "destination_lang.set(\"Select the Language\")\n",
    "\n",
    "# Through this function the text written by user will gets translated to the selected language\n",
    "def Translate():\n",
    "    text_to_translate = Input_text.get(\"1.0\", END).strip()\n",
    "    selected_lang = destination_lang.get()\n",
    "\n",
    "    if text_to_translate and selected_lang in languages_dict:\n",
    "        language_code = languages_dict[selected_lang]\n",
    "\n",
    "        try:\n",
    "            translated_text = translator.translate_text(text_to_translate, target_lang=language_code)\n",
    "            Output_text.delete(\"1.0\", END)\n",
    "            Output_text.insert(END, translated_text.text)\n",
    "\n",
    "        except Exception as e:\n",
    "            Output_text.delete(\"1.0\", END)\n",
    "            Output_text.insert(END, f\"Error: {str(e)}\")\n",
    "\n",
    "    else:\n",
    "        Output_text.delete(\"1.0\", END)\n",
    "        Output_text.insert(END, \"Please enter text and select a valid language.\")\n",
    "\n",
    "# This function captures the speech of the user\n",
    "def SpeechToText():\n",
    "    recognizer = sr.Recognizer()\n",
    "\n",
    "    try:\n",
    "        Output_text.delete(\"1.0\", END)\n",
    "        Output_text.insert(END, \"Speak Now...\")\n",
    "        root.update()\n",
    "\n",
    "        with sr.Microphone() as source:\n",
    "            recognizer.adjust_for_ambient_noise(source, duration = 1)\n",
    "            audio = recognizer.listen(source)\n",
    "\n",
    "        speech_to_text = recognizer.recognize_google(audio)\n",
    "        Input_text.delete(\"1.0\", END)\n",
    "        Input_text.insert(END, speech_to_text)\n",
    "    except sr.UnknownValueError:\n",
    "        Output_text.delete(\"1.0\", END)\n",
    "        Output_text.insert(END, \"Audio can't be Detected...\")\n",
    "    except sr.RequestError as e:\n",
    "        Output_text.delete(\"1.0\", END)\n",
    "        Output_text.insert(END, f\"Could not Request the Result: {str(e)}\")\n",
    "  \n",
    "# Created the Button to Translate the Text\n",
    "translate_button = Button(root, text = \"Translate\", font  = \"Arial 12 bold\", pady = 5, command = Translate, bg = \"orange\", activebackground = \"pink\")\n",
    "translate_button.place(x = 500, y = 160)\n",
    "\n",
    "# Created the Speech Button\n",
    "speech_button = Button(root, text = \"Speak\", font = \"Arial 12 bold\", pady = 5, command = SpeechToText, bg = \"orange\", activebackground = \"pink\")\n",
    "speech_button.place(x=50, y=250)\n",
    "\n",
    "\n",
    "root.mainloop() # to prevent the kernel to die"
   ]
  },
  {
   "cell_type": "code",
   "execution_count": null,
   "metadata": {},
   "outputs": [],
   "source": []
  }
 ],
 "metadata": {
  "kernelspec": {
   "display_name": "Python 3",
   "language": "python",
   "name": "python3"
  },
  "language_info": {
   "codemirror_mode": {
    "name": "ipython",
    "version": 3
   },
   "file_extension": ".py",
   "mimetype": "text/x-python",
   "name": "python",
   "nbconvert_exporter": "python",
   "pygments_lexer": "ipython3",
   "version": "3.11.9"
  }
 },
 "nbformat": 4,
 "nbformat_minor": 2
}
