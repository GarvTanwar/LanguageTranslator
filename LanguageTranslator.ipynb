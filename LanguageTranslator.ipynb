{
 "cells": [
  {
   "cell_type": "code",
   "execution_count": 1,
   "metadata": {},
   "outputs": [],
   "source": [
    "from tkinter import *\n",
    "from tkinter import ttk\n",
    "from googletrans import Translator, LANGUAGES"
   ]
  },
  {
   "cell_type": "code",
   "execution_count": 2,
   "metadata": {},
   "outputs": [],
   "source": [
    "root = Tk() # imported tkinter\n",
    "root.geometry('1100x320') # size of the box\n",
    "root.resizable(0,0)\n",
    "root.iconbitmap(\"translator.ico\")\n",
    "root[\"bg\"] = \"#3EB489\"\n",
    "\n",
    "root.title(\"Language Translator\")\n",
    "Label(root, text = \"Langauge Translator\", font = \"Arial 20 bold\").pack()\n",
    "\n",
    "\n"
   ]
  },
  {
   "cell_type": "code",
   "execution_count": null,
   "metadata": {},
   "outputs": [],
   "source": [
    "Label(root, text = \"Enter the Text To Translate\", font = \"Arial 13 bold\", bg = \"#FAF9F6\").place(x = 165, y = 90)\n",
    "root.mainloop() # to prevent the kernel to die"
   ]
  }
 ],
 "metadata": {
  "kernelspec": {
   "display_name": "Python 3",
   "language": "python",
   "name": "python3"
  },
  "language_info": {
   "codemirror_mode": {
    "name": "ipython",
    "version": 3
   },
   "file_extension": ".py",
   "mimetype": "text/x-python",
   "name": "python",
   "nbconvert_exporter": "python",
   "pygments_lexer": "ipython3",
   "version": "3.11.9"
  }
 },
 "nbformat": 4,
 "nbformat_minor": 2
}
